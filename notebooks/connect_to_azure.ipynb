{
 "cells": [
  {
   "cell_type": "code",
   "execution_count": 1,
   "metadata": {},
   "outputs": [
    {
     "name": "stderr",
     "output_type": "stream",
     "text": [
      "Failure while loading azureml_run_type_providers. Failed to load entrypoint azureml.scriptrun = azureml.core.script_run:ScriptRun._from_run_dto with exception (azure-mgmt-network 2.7.0 (/Users/zakariabelgoum/opt/anaconda3/envs/ML/lib/python3.11/site-packages), Requirement.parse('azure-mgmt-network==21.0.1')).\n"
     ]
    }
   ],
   "source": [
    "import azureml.core\n",
    "from azureml.core import Workspace, Experiment\n",
    "from azureml.core.compute import AmlCompute\n",
    "from azureml.core.compute import ComputeTarget"
   ]
  },
  {
   "cell_type": "code",
   "execution_count": 2,
   "metadata": {},
   "outputs": [],
   "source": [
    "ws = Workspace.from_config()\n",
    "#cluster_name = \"cluster\"\n",
    "#config = AmlCompute.provisioning_configuration(max_nodes=4, vm_size=\"STANDARD_D2_V2\")\n",
    "#compute_target = ComputeTarget.create(ws, cluster_name, config)\n",
    "#compute_target.wait_for_completion(show_output=True, min_node_count=None, timeout_in_minutes=20)"
   ]
  },
  {
   "cell_type": "code",
   "execution_count": 3,
   "metadata": {},
   "outputs": [
    {
     "name": "stderr",
     "output_type": "stream",
     "text": [
      "Found the config file in: ./config.json\n"
     ]
    }
   ],
   "source": [
    "from azure.ai.ml import MLClient\n",
    "from azure.identity import DefaultAzureCredential\n",
    "ml_client = MLClient.from_config(credential=DefaultAzureCredential(), path=\".\")"
   ]
  },
  {
   "cell_type": "code",
   "execution_count": 4,
   "metadata": {},
   "outputs": [
    {
     "data": {
      "text/plain": [
       "MLClient(credential=<azure.identity._credentials.default.DefaultAzureCredential object at 0x11cb208d0>,\n",
       "         subscription_id=48e1f4ed-3278-4f6d-bebe-7ada1dd8404c,\n",
       "         resource_group_name=rg-dp100-lb152eb03e5604ef2af,\n",
       "         workspace_name=mlw-dp100-lb152eb03e5604ef2af)"
      ]
     },
     "execution_count": 4,
     "metadata": {},
     "output_type": "execute_result"
    }
   ],
   "source": [
    "ml_client"
   ]
  },
  {
   "cell_type": "code",
   "execution_count": 10,
   "metadata": {},
   "outputs": [],
   "source": [
    "import os\n",
    "os.environ[\"AZURE_CLIENT_ID\"] = \"66a86a32-a0ef-415c-bcc1-e0cb79421019\"\n",
    "os.environ[\"AZURE_TENANT_ID\"] = \"66a86a32-a0ef-415c-bcc1-e0cb79421019\"\n",
    "os.environ[\"AZURE_CLIENT_SECRET\"] = \"ad73a529-ceb9-4d9a-9e5f-39dade10ca3e\"\n"
   ]
  },
  {
   "cell_type": "code",
   "execution_count": 6,
   "metadata": {},
   "outputs": [
    {
     "data": {
      "text/plain": [
       "environ{'COMMAND_MODE': 'unix2003',\n",
       "        'CONDA_DEFAULT_ENV': 'ML',\n",
       "        'CONDA_EXE': '/Users/zakariabelgoum/opt/anaconda3/bin/conda',\n",
       "        'CONDA_PREFIX': '/Users/zakariabelgoum/opt/anaconda3/envs/ML',\n",
       "        'CONDA_PROMPT_MODIFIER': '(ML) ',\n",
       "        'CONDA_PYTHON_EXE': '/Users/zakariabelgoum/opt/anaconda3/bin/python',\n",
       "        'CONDA_SHLVL': '2',\n",
       "        'HOME': '/Users/zakariabelgoum',\n",
       "        'HOMEBREW_CELLAR': '/opt/homebrew/Cellar',\n",
       "        'HOMEBREW_PREFIX': '/opt/homebrew',\n",
       "        'HOMEBREW_REPOSITORY': '/opt/homebrew',\n",
       "        'INFOPATH': '/opt/homebrew/share/info:',\n",
       "        'LOGNAME': 'zakariabelgoum',\n",
       "        'MANPATH': '/opt/homebrew/share/man::',\n",
       "        'MallocNanoZone': '0',\n",
       "        'OLDPWD': '/',\n",
       "        'ORIGINAL_XDG_CURRENT_DESKTOP': 'undefined',\n",
       "        'PATH': '/Users/zakariabelgoum/opt/anaconda3/envs/ML/bin:/Users/zakariabelgoum/opt/anaconda3/condabin:/opt/homebrew/bin:/opt/homebrew/sbin:/Library/Frameworks/Python.framework/Versions/3.11/bin:/usr/local/bin:/usr/bin:/bin:/usr/sbin:/sbin',\n",
       "        'PWD': '/',\n",
       "        'SHELL': '/bin/zsh',\n",
       "        'SHLVL': '2',\n",
       "        'SSH_AUTH_SOCK': '/private/tmp/com.apple.launchd.kD7vpmmcdV/Listeners',\n",
       "        'TMPDIR': '/var/folders/4p/p83pxk1d38dghl301nmr47vh0000gn/T/',\n",
       "        'USER': 'zakariabelgoum',\n",
       "        'VSCODE_AMD_ENTRYPOINT': 'vs/workbench/api/node/extensionHostProcess',\n",
       "        'VSCODE_CODE_CACHE_PATH': '/Users/zakariabelgoum/Library/Application Support/Code/CachedData/6445d93c81ebe42c4cbd7a60712e0b17d9463e97',\n",
       "        'VSCODE_CRASH_REPORTER_PROCESS_TYPE': 'extensionHost',\n",
       "        'VSCODE_CWD': '/',\n",
       "        'VSCODE_HANDLES_UNCAUGHT_ERRORS': 'true',\n",
       "        'VSCODE_IPC_HOOK': '/Users/zakariabelgoum/Library/Application Support/Code/1.81-main.sock',\n",
       "        'VSCODE_NLS_CONFIG': '{\"locale\":\"en-us\",\"osLocale\":\"en-ca\",\"availableLanguages\":{},\"_languagePackSupport\":true}',\n",
       "        'VSCODE_PID': '893',\n",
       "        'XPC_FLAGS': '0x0',\n",
       "        'XPC_SERVICE_NAME': '0',\n",
       "        '_': '/Users/zakariabelgoum/opt/anaconda3/envs/ML/bin/python',\n",
       "        '__CFBundleIdentifier': 'com.microsoft.VSCode',\n",
       "        '__CF_USER_TEXT_ENCODING': '0x1F5:0x0:0x52',\n",
       "        'ELECTRON_RUN_AS_NODE': '1',\n",
       "        'PYTHONUNBUFFERED': '1',\n",
       "        'PYTHONIOENCODING': 'utf-8',\n",
       "        '_CE_CONDA': '',\n",
       "        'CONDA_PREFIX_1': '/Users/zakariabelgoum/opt/anaconda3',\n",
       "        'CONDA_ROOT': '/Users/zakariabelgoum/opt/anaconda3',\n",
       "        '_CE_M': '',\n",
       "        'LC_CTYPE': 'UTF-8',\n",
       "        'PYDEVD_IPYTHON_COMPATIBLE_DEBUGGING': '1',\n",
       "        'PYDEVD_USE_FRAME_EVAL': 'NO',\n",
       "        'TERM': 'xterm-color',\n",
       "        'CLICOLOR': '1',\n",
       "        'FORCE_COLOR': '1',\n",
       "        'CLICOLOR_FORCE': '1',\n",
       "        'PAGER': 'cat',\n",
       "        'GIT_PAGER': 'cat',\n",
       "        'MPLBACKEND': 'module://matplotlib_inline.backend_inline',\n",
       "        'AZUREML_CURRENT_CLOUD': 'AzureCloud'}"
      ]
     },
     "execution_count": 6,
     "metadata": {},
     "output_type": "execute_result"
    }
   ],
   "source": [
    "import os\n",
    "os.environ"
   ]
  },
  {
   "cell_type": "code",
   "execution_count": 9,
   "metadata": {},
   "outputs": [
    {
     "name": "stdout",
     "output_type": "stream",
     "text": [
      "Monitor your job at https://ml.azure.com/runs/sweet_bread_hjg70c8bgc?wsid=/subscriptions/48e1f4ed-3278-4f6d-bebe-7ada1dd8404c/resourcegroups/rg-dp100-lb152eb03e5604ef2af/workspaces/mlw-dp100-lb152eb03e5604ef2af&tid=66a86a32-a0ef-415c-bcc1-e0cb79421019\n"
     ]
    }
   ],
   "source": [
    "from azure.ai.ml import command\n",
    "\n",
    "# configure job\n",
    "\n",
    "job = command(\n",
    "    code=\"../code\",\n",
    "    command=\"python train.py --training_data diabetes-dev.csv\",\n",
    "    environment=\"AzureML-sklearn-0.24-ubuntu18.04-py37-cpu@latest\",\n",
    "    compute=\"aml-cluster\",\n",
    "    display_name=\"diabetes-train-script-from-local\",\n",
    "    experiment_name=\"diabetes-training-from-local\"\n",
    "    )\n",
    "\n",
    "# submit job\n",
    "returned_job = ml_client.create_or_update(job)\n",
    "aml_url = returned_job.studio_url\n",
    "print(\"Monitor your job at\", aml_url)"
   ]
  },
  {
   "cell_type": "code",
   "execution_count": null,
   "metadata": {},
   "outputs": [],
   "source": []
  }
 ],
 "metadata": {
  "kernelspec": {
   "display_name": "ML",
   "language": "python",
   "name": "python3"
  },
  "language_info": {
   "codemirror_mode": {
    "name": "ipython",
    "version": 3
   },
   "file_extension": ".py",
   "mimetype": "text/x-python",
   "name": "python",
   "nbconvert_exporter": "python",
   "pygments_lexer": "ipython3",
   "version": "3.11.4"
  },
  "orig_nbformat": 4
 },
 "nbformat": 4,
 "nbformat_minor": 2
}
